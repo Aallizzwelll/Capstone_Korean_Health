version https://git-lfs.github.com/spec/v1
oid sha256:6d43354f7515a6bf36b964f47fb774f7c70f2fe15de1a1cdcc29c70f316f2384
size 299134
