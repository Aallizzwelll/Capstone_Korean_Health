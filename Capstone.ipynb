version https://git-lfs.github.com/spec/v1
oid sha256:df0d1b75a62ebb720895488f8c91cd9f01a80fa2931a530ff0c7574e0448deef
size 1046906
