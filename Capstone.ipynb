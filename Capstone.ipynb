version https://git-lfs.github.com/spec/v1
oid sha256:0ee31f57a5adf6eed7edfa1f590c66860680eea2ad25d47ed215ab73373c19a0
size 1041209
